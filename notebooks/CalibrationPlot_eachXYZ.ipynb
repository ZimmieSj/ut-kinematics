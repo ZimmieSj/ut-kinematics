{
 "cells": [
  {
   "cell_type": "code",
   "execution_count": 1,
   "metadata": {},
   "outputs": [],
   "source": [
    "import numpy as np\n",
    "from matplotlib import pyplot as plt\n",
    "from mpl_toolkits.mplot3d import axes3d, Axes3D \n",
    "import rosbag\n",
    "import glob\n",
    "import os\n",
    "import rospy\n",
    "from urdf_parser_py.urdf import URDF\n",
    "from pykdl_utils.kdl_parser import kdl_tree_from_urdf_model\n",
    "from pykdl_utils.kdl_kinematics import KDLKinematics"
   ]
  },
  {
   "cell_type": "markdown",
   "metadata": {},
   "source": [
    "# read data(commented are the vicon topic names for other data )"
   ]
  },
  {
   "cell_type": "code",
   "execution_count": 2,
   "metadata": {},
   "outputs": [],
   "source": [
    "data_path = './Robot_ViconOctober/'\n",
    "#'/vicon/atag/atag---Aug tag name\n",
    "#'/vicon/PEE/PEE' -- Nov tag name\n",
    "#/vicon/packbot_endEff/packbot_endEff -- Oct tag name"
   ]
  },
  {
   "cell_type": "markdown",
   "metadata": {},
   "source": [
    "# Extract static vicon, camera and joints data for calibration\n",
    "\n",
    "Lets ignore the static data for now - there's clearly something wrong with it, so lets only look at dynamic data"
   ]
  },
  {
   "cell_type": "code",
   "execution_count": 13,
   "metadata": {},
   "outputs": [],
   "source": [
    "# # Extract Vicon and camera stationary data\n",
    "# ## Load Vicon data\n",
    "# vicobags_stat = glob.glob(data_path+'ViconStationeryDataOct/*.bag') \n",
    "# for i,bag in enumerate(vicobags_stat): # loop over vicon bags\n",
    "#     vsbag = rosbag.Bag(bag)\n",
    "#     vicon_statXpos = []\n",
    "#     vicon_statYpos = []\n",
    "#     vicon_statZpos = []\n",
    "#     for topicc, msgg, tt in vsbag.read_messages(topics=['/vicon/packbot_endEff/packbot_endEff']): # extract data\n",
    "#         vicon_statXpos.append(msgg.transform.translation.x)\n",
    "#         vicon_statYpos.append(msgg.transform.translation.y)\n",
    "#         vicon_statZpos.append(msgg.transform.translation.z)  \n",
    "#     vsbag.close()\n",
    "\n",
    "#     vicon_statXPosArr = np.array(vicon_statXpos)\n",
    "#     vicon_statYPosArr = np.array(vicon_statYpos)\n",
    "#     vicon_statZPosArr = np.array(vicon_statZpos)\n",
    "#     vicon_statPosArr = np.column_stack((vicon_statXPosArr,vicon_statYPosArr,vicon_statZPosArr)) \n",
    "#     np.save(data_path+'vicon_statPosArr_%d.npy'%i, vicon_statPosArr) # save to numpy\n",
    "\n",
    "# # Load Robot data    \n",
    "# robobags_stat = glob.glob(data_path+'RobotStationeryDataOct/*.bag')\n",
    "# for i,bag in enumerate(robobags_stat): # loop over robot bags\n",
    "#     rsbag = rosbag.Bag(bag)\n",
    "#     robot_statXpos = []\n",
    "#     robot_statYpos = []\n",
    "#     robot_statZpos = []\n",
    "#     robotbag_Tagtime_stat = []\n",
    "#     for topi, msgs, tym in rsbag.read_messages(topics=['/tag_detections']): # extract data\n",
    "#         try:\n",
    "#             robot_statXpos.append(msgs.detections[0].pose.pose.pose.position.x)\n",
    "#             robot_statYpos.append(msgs.detections[0].pose.pose.pose.position.y)\n",
    "#             robot_statZpos.append(msgs.detections[0].pose.pose.pose.position.z)   \n",
    "#             robotbag_Tagtime_stat.append(t.secs)\n",
    "#         except:\n",
    "#             continue\n",
    "#     #rsbag.close()\n",
    "#     robot_statXposArr = np.array(robot_statXpos)\n",
    "#     robot_statYposArr = np.array(robot_statYpos)\n",
    "#     robot_statZposArr = np.array(robot_statZpos)\n",
    "#     robot_statposArr = np.column_stack((robot_statXposArr,robot_statYposArr,robot_statZposArr))\n",
    "#     np.save(data_path+'robot_statPosArr_%d.npy'%i, robot_statposArr)\n",
    "    \n",
    "#     robotbag_Jointstime_stat = []\n",
    "#     ja_list = []\n",
    "#     for topic2, msg2, t2 in rsbag.read_messages(topics=['/Packbot510/joints']):\n",
    "#         ja_list.append(msg2.position[:3])\n",
    "#         robotbag_Jointstime_stat.append(t2.secs)\n",
    "#     ja_array_stat = np.array(ja_list)\n",
    "#     rsbag.close()\n",
    "#     np.save(data_path+'ja_array_stat%d.npy'%i, ja_array_stat)                         \n"
   ]
  },
  {
   "cell_type": "markdown",
   "metadata": {},
   "source": [
    "# Loading the saved  static data "
   ]
  },
  {
   "cell_type": "code",
   "execution_count": 4,
   "metadata": {},
   "outputs": [],
   "source": [
    "# kinematics_list = []\n",
    "# vicon_list = []\n",
    "# camera_list = []\n",
    "# for i in range(len(vicobags_stat)):\n",
    "#     vicon = np.load(data_path+'vicon_statPosArr_%d.npy'%i)\n",
    "#     vicon_list.append(vicon)\n",
    "    \n",
    "#     RobotKin = np.load(data_path+'ja_array_stat%d.npy'%i)\n",
    "#     kinematics_list.append(RobotKin)\n",
    "    \n",
    "#     robot = np.load(data_path+'robot_statPosArr_%d.npy'%i)\n",
    "#     camera_list.append(robot)"
   ]
  },
  {
   "cell_type": "markdown",
   "metadata": {},
   "source": [
    "# use the joints data for kinematics (static)"
   ]
  },
  {
   "cell_type": "code",
   "execution_count": 5,
   "metadata": {},
   "outputs": [],
   "source": [
    "# robot = URDF.from_xml_file('robot.urdf')\n",
    "# links = [rl.name for rl in robot.links]\n",
    "# kdl_kin = KDLKinematics(robot,'base_link','elbow2_link')\n",
    "# #print(kdl_kin.get_joint_names())\n",
    "\n",
    "# BaseTo_ee_xyz = []\n",
    "# for d in kinematics_list:\n",
    "#     ee_list = []\n",
    "#     for joint in d:\n",
    "#         posez = kdl_kin.forward(joint)\n",
    "#         ee_list.append(posez[0:3,3])\n",
    "#     BaseTo_ee_xyz.append(np.squeeze(np.array(ee_list)))\n",
    "# np.save(data_path+'BaseTo_ee_xyz%d.npy'%i, BaseTo_ee_xyz)"
   ]
  },
  {
   "cell_type": "markdown",
   "metadata": {},
   "source": [
    "# Create procrustes function to use later"
   ]
  },
  {
   "cell_type": "code",
   "execution_count": 6,
   "metadata": {},
   "outputs": [],
   "source": [
    "# Create procrustes function to use later\n",
    "def procrustes(matx1,matx2):\n",
    "\n",
    "    # translate all the data to the origin\n",
    "    mean1 =  np.mean(matx1, 0)\n",
    "    mean2 =  np.mean(matx2, 0)\n",
    "    matx1 -= mean1\n",
    "    matx2 -= mean2\n",
    "\n",
    "    norm1 = np.linalg.norm(matx1)\n",
    "    norm2 = np.linalg.norm(matx2)\n",
    "\n",
    "    # change scaling of data (in rows) such that trace(mtx*mtx') = 1\n",
    "    matx1 /= norm1\n",
    "    matx2 /= norm2\n",
    "\n",
    "    L,D,M = np.linalg.svd(matx1.T.dot(matx2))\n",
    "    \n",
    "    s = np.sum(D)*norm1/norm2\n",
    "\n",
    "    Rot = L.dot(M)\n",
    "    tra = mean1 - (s*np.dot(Rot,mean2.T)).T\n",
    "\n",
    "    return Rot, tra.reshape(-1,1), s"
   ]
  },
  {
   "cell_type": "markdown",
   "metadata": {},
   "source": [
    "# Calibrating vicon and camera\n",
    "\n",
    "This doesn't do anything remember - it makes no sense to try calibrate these two - because the camera moves with the arm. So I'd get rid of this and the block below.\n",
    "\n",
    "Procrustes finds a rigid transform between two fixed frames. But when the camera frame is moving, it can never work because the transform is never fixed.\n"
   ]
  },
  {
   "cell_type": "code",
   "execution_count": 12,
   "metadata": {},
   "outputs": [
    {
     "name": "stdout",
     "output_type": "stream",
     "text": [
      "[[-0.94471729  0.18102871  0.27338224]\n",
      " [-0.28272685 -0.87200987 -0.39958017]\n",
      " [ 0.16605653 -0.45478279  0.87498448]]\n",
      "[[ 0.39983824]\n",
      " [ 0.0546991 ]\n",
      " [ 0.18974951]]\n",
      "1.08471808735\n"
     ]
    }
   ],
   "source": [
    "# Get means \n",
    "# vicon_means = [np.mean(d,axis=0) for d in vicon_list]\n",
    "# camera_means = [np.mean(d,axis=0) for d in camera_list]\n",
    "\n",
    "# Rot_VandCam, trans_VandCam,scale_VandCam = procrustes(np.array(vicon_means),np.array(camera_means))\n",
    "# print(Rot_VandCam)\n",
    "# print(trans_VandCam)\n",
    "# print(scale_VandCam) # should be close to 1 for good data\n",
    "\n",
    "# # Save calibration parameters for use in dynamics analysis\n",
    "\n",
    "# np.save(data_path+'Rot_VandCam.npy',Rot_VandCam)\n",
    "# np.save(data_path+'trans_VandCam.npy',trans_VandCam)\n",
    "# np.save(data_path+'scale_VandCam.npy',scale_VandCam)\n",
    "\n",
    "# Rotate camera data into Vicon frame of reference\n",
    "# camera_v_list = [scale_VandCam*np.dot(Rot_VandCam,d.T).T + trans_VandCam.T for d in camera_list]"
   ]
  },
  {
   "cell_type": "markdown",
   "metadata": {},
   "source": [
    "# Calibrating vicon and End_effector kinematics"
   ]
  },
  {
   "cell_type": "code",
   "execution_count": 8,
   "metadata": {},
   "outputs": [
    {
     "name": "stdout",
     "output_type": "stream",
     "text": [
      "[[ 0.91087389  0.41180292  0.02696483]\n",
      " [-0.41198285  0.91119076  0.00123909]\n",
      " [-0.02405985 -0.01223771  0.99963561]]\n",
      "[[ 0.07025101]\n",
      " [ 0.18596177]\n",
      " [-0.04139798]]\n",
      "0.977391329043\n"
     ]
    }
   ],
   "source": [
    "# # Get means \n",
    "# vicon_means = [np.mean(d,axis=0) for d in vicon_list]\n",
    "# kinematics_means = [np.mean(d,axis=0) for d in BaseTo_ee_xyz]\n",
    "\n",
    "# Rot_VandKin, trans_VandKin,scale_VandKin = procrustes(np.array(vicon_means),np.array(kinematics_means))\n",
    "# print(Rot_VandKin)\n",
    "# print(trans_VandKin)\n",
    "# print(scale_VandKin) # should be close to 1 for good data\n",
    "\n",
    "# # Save calibration parameters for use in dynamics analysis\n",
    "\n",
    "# np.save(data_path+'Rot_VandKin.npy',Rot_VandKin)\n",
    "# np.save(data_path+'trans_VandKin.npy',trans_VandKin)\n",
    "# np.save(data_path+'scale_VandKin.npy',scale_VandKin)\n",
    "\n",
    "# # Rotate Kdl_kinematics data into Vicon frame of reference\n",
    "# kinematics_v_list = [scale_VandCam*np.dot(Rot_VandCam,d.T).T + trans_VandCam.T for d in BaseTo_ee_xyz]"
   ]
  },
  {
   "cell_type": "markdown",
   "metadata": {},
   "source": [
    "# Extract Vicon and camera dynamic data\n",
    "\n",
    "This should be done once, in a different notebook. Once you have extracted and saved the data in a nice format, you never need to extract it again."
   ]
  },
  {
   "cell_type": "code",
   "execution_count": 18,
   "metadata": {},
   "outputs": [
    {
     "data": {
      "text/plain": [
       "['./Robot_ViconOctober//RobotDynamicDataOct/subsetD0.bag',\n",
       " './Robot_ViconOctober//RobotDynamicDataOct/subsetD3.bag',\n",
       " './Robot_ViconOctober//RobotDynamicDataOct/subsetD1.bag',\n",
       " './Robot_ViconOctober//RobotDynamicDataOct/subsetD2.bag']"
      ]
     },
     "execution_count": 18,
     "metadata": {},
     "output_type": "execute_result"
    }
   ],
   "source": [
    "import glob\n",
    "glob.glob(data_path+'/RobotDynamicDataOct/*')"
   ]
  },
  {
   "cell_type": "code",
   "execution_count": 23,
   "metadata": {},
   "outputs": [],
   "source": [
    "# Extract Vicon and camera dynamic data\n",
    "## Load Vicon data\n",
    "vicobags_dyna = glob.glob(data_path+'ViconDynamicDataOct/*.bag')\n",
    "for i,bag in enumerate(vicobags_dyna): # loop over vicon bags\n",
    "    vdbag = rosbag.Bag(bag)\n",
    "    vicon_dynaXpos = []\n",
    "    vicon_dynaYpos = []\n",
    "    vicon_dynaZpos = []\n",
    "    viconbag_time_dyna = []\n",
    "    for topicc, msgg, tt in vdbag.read_messages(topics=['/vicon/packbot_endEff/packbot_endEff']): # extract data\n",
    "        vicon_dynaXpos.append(msgg.transform.translation.x)\n",
    "        vicon_dynaYpos.append(msgg.transform.translation.y)\n",
    "        vicon_dynaZpos.append(msgg.transform.translation.z) \n",
    "        vicon_time_dy = tt.secs\n",
    "        viconbag_time_dyna.append(vicon_time_dy)\n",
    "    vdbag.close()\n",
    "\n",
    "    vicon_dynaXPosArr = np.array(vicon_dynaXpos)\n",
    "    vicon_dynaYPosArr = np.array(vicon_dynaYpos)\n",
    "    vicon_dynaZPosArr = np.array(vicon_dynaZpos)\n",
    "    vicon_dynaPosArr = np.column_stack((vicon_dynaXPosArr,vicon_dynaYPosArr,vicon_dynaZPosArr)) \n",
    "    np.save(data_path+'vicon_dynaPosArr%d.npy'%i, vicon_dynaPosArr) # save to numpy\n",
    "    np.save(data_path+'viconbag_time_dyna%d.npy'%i, viconbag_time_dyna)\n",
    "    \n",
    "# Load Robot data    \n",
    "robobags_dyna = glob.glob(data_path+'RobotDynamicDataOct/*.bag')\n",
    "for i,bag in enumerate(robobags_dyna): # loop over robot bags\n",
    "    rdbag = rosbag.Bag(bag)\n",
    "    robot_dynaXpos = []\n",
    "    robot_dynaYpos = []\n",
    "    robot_dynaZpos = []\n",
    "    robotbag_Tagtime_dyna = [] # \\this was spelt wrong\n",
    "    for topi, msgs, tym in rdbag.read_messages(topics=['/tag_detections']): # extract data\n",
    "        try:\n",
    "            robot_dynaXpos.append(msgs.detections[0].pose.pose.pose.position.x)\n",
    "            robot_dynaYpos.append(msgs.detections[0].pose.pose.pose.position.y)\n",
    "            robot_dynaZpos.append(msgs.detections[0].pose.pose.pose.position.z)   \n",
    "            robotbag_Tagtime_dyna.append(tym.secs)\n",
    "        except:\n",
    "            continue\n",
    "\n",
    "    robot_dynaXposArr = np.array(robot_dynaXpos)\n",
    "    robot_dynaYposArr = np.array(robot_dynaYpos)\n",
    "    robot_dynaZposArr = np.array(robot_dynaZpos)\n",
    "    robot_dynaposArr = np.column_stack((robot_dynaXposArr,robot_dynaYposArr,robot_dynaZposArr))\n",
    "    np.save(data_path+'robot_dynaPosArr%d.npy'%i, robot_dynaposArr)\n",
    "    np.save(data_path+'robotbag_Tagtime_dyna%d.npy'%i, robotbag_Tagtime_dyna)\n",
    "    \n",
    "    \n",
    "    robotbag_Jointstime_dyna = []\n",
    "    ja_list = []\n",
    "    for topic2, msg2, t2 in rdbag.read_messages(topics=['/Packbot510/joints']):\n",
    "        ja_list.append(msg2.position[:3])\n",
    "        robotbag_Jointstime_dyna.append(t2.secs)\n",
    "    ja_array_dyna = np.array(ja_list)\n",
    "    rdbag.close()\n",
    "    np.save(data_path+'ja_array_dyna%d.npy'%i, ja_array_dyna)\n",
    "    np.save(data_path+'robotbag_Jointstime_dyna%d.npy'%i, robotbag_Jointstime_dyna)"
   ]
  },
  {
   "cell_type": "markdown",
   "metadata": {},
   "source": [
    "# Loading the saved dynamic data"
   ]
  },
  {
   "cell_type": "code",
   "execution_count": 28,
   "metadata": {},
   "outputs": [],
   "source": [
    "# Sanity check loading data we just saved\n",
    "vicon_dylist = []\n",
    "camera_dylist = []\n",
    "kinematics_list_dyna = []\n",
    "\n",
    "tk = []\n",
    "tc = []\n",
    "tv = []\n",
    "\n",
    "for i in range(len(vicobags_dyna)):\n",
    "    vicon_dy = np.load(data_path+'vicon_dynaPosArr%d.npy'%i)\n",
    "    vicon_dylist.append(vicon_dy)\n",
    "    v_time = np.load(data_path+'viconbag_time_dyna%d.npy'%i) # Name was wrong. missing dyna\n",
    "    tv.append(v_time)\n",
    "   \n",
    "    robot_dy = np.load(data_path+'robot_dynaPosArr%d.npy'%i)\n",
    "    camera_dylist.append(robot_dy)\n",
    "    c_time = np.load(data_path+'robotbag_Tagtime_dyna%d.npy'%i) # Name was wrong. missing dyna\n",
    "    tc.append(c_time)\n",
    "    \n",
    "    RobotKin_dy = np.load(data_path+'ja_array_dyna%d.npy'%i)\n",
    "    kinematics_list_dyna.append(RobotKin_dy)\n",
    "    k_time = np.load(data_path+'robotbag_Jointstime_dyna%d.npy'%i)\n",
    "    tk.append(k_time)\n",
    "    \n",
    "# NB: your naming conventions are sloppy, which introduces incosistency and errors, try to be simple and stick to the same conventions throughout. \n",
    "# Even when you label your data/ bag files. It makes your life easier, and you spend less time wasting on issues like this. It's shorter to spend more time organising your code and files \n",
    "# than to figuring out what is going wrong in a mess."
   ]
  },
  {
   "cell_type": "markdown",
   "metadata": {},
   "source": [
    "# use the joints data for kinematics (dynamic) : yes, we need them"
   ]
  },
  {
   "cell_type": "code",
   "execution_count": 29,
   "metadata": {},
   "outputs": [],
   "source": [
    "robot = URDF.from_xml_file('robot.urdf')\n",
    "links = [rl.name for rl in robot.links]\n",
    "kdl_kin_dy = KDLKinematics(robot,'base_link','elbow2_link')\n",
    "#print(kdl_kin.get_joint_names())\n",
    "\n",
    "BaseTo_ee_xyz_dyna = []\n",
    "for dy in kinematics_list_dyna:\n",
    "    ee_list_dy = []\n",
    "    for joints in dy:\n",
    "        posez_dy = kdl_kin_dy.forward(joints)\n",
    "        ee_list_dy.append(posez_dy[0:3,3])\n",
    "    BaseTo_ee_xyz_dyna.append(np.squeeze(np.array(ee_list_dy)))\n",
    "np.save(data_path+'BaseTo_ee_xyz_dyna%d.npy'%i, BaseTo_ee_xyz_dyna)"
   ]
  },
  {
   "cell_type": "markdown",
   "metadata": {},
   "source": [
    "# Transform camera and ee_kin dyanmic data use the calibration matrices from static data\n",
    "\n",
    "For now we are just looking at the data - no calibration. To see if it followed the same path. Ignore the calibration"
   ]
  },
  {
   "cell_type": "code",
   "execution_count": 30,
   "metadata": {},
   "outputs": [],
   "source": [
    "# camera_in_vicon = []\n",
    "# BaseToEndEff_in_vicon = []\n",
    "# for i in range(len(vicon_dylist)):\n",
    "#     cameraDynamicdata_trans =np.dot(Rot_VandCam,camera_dylist[i].T) + trans_VandCam\n",
    "#     camera_in_vicon.append(cameraDynamicdata_trans.T)\n",
    "    \n",
    "#     kinematicsDynamicdata_trans =np.dot(Rot_VandKin,BaseTo_ee_xyz_dyna[i].T) + trans_VandKin\n",
    "#     BaseToEndEff_in_vicon.append(kinematicsDynamicdata_trans.T)"
   ]
  },
  {
   "cell_type": "markdown",
   "metadata": {},
   "source": [
    "# Plot untransformed vicon vs camera vs ee_kin"
   ]
  },
  {
   "cell_type": "code",
   "execution_count": 34,
   "metadata": {},
   "outputs": [
    {
     "data": {
      "image/png": "[encoded data removed]",
      "text/plain": [
       "<Figure size 1080x576 with 3 Axes>"
      ]
     },
     "metadata": {
      "needs_background": "light"
     },
     "output_type": "display_data"
    }
   ],
   "source": [
    "\n",
    "fig, axs = plt.subplots(3,figsize =(15,8))\n",
    "plt.xlabel('Time')\n",
    "axs[0].grid()\n",
    "axs[1].grid()\n",
    "axs[2].grid()\n",
    "\n",
    "#Plot vicon data\n",
    "axs[0].plot((tv[3]),vicon_dylist[3][:,0],c='r')\n",
    "axs[1].plot((tv[3]),vicon_dylist[3][:,1],c='r')\n",
    "axs[2].plot((tv[3]),vicon_dylist[3][:,2],c='r')\n",
    "\n",
    "# #Plot camera data - I don't think camera data tells us much - so ignore it for now\n",
    "# axs[0].plot((tc[3]),camera_dylist[3][:,0],c='g')\n",
    "# axs[1].plot((tc[3]),camera_dylist[3][:,1],c='g')\n",
    "# axs[2].plot((tc[3]),camera_dylist[3][:,2],c='g')\n",
    "\n",
    "#Plot kinematics data\n",
    "axs[0].plot((tk[1]),BaseTo_ee_xyz_dyna[1][:,0],c='b') # Standardardise your naming conventions. - you were missing the dyna\n",
    "axs[1].plot((tk[1]),BaseTo_ee_xyz_dyna[1][:,1],c='b') # I like the vicon_dylist, camera_dy_list version above\n",
    "axs[2].plot((tk[1]),BaseTo_ee_xyz_dyna[1][:,2],c='b')\n",
    "\n",
    "# Remember what I said about axis limits? Where are they?!\n",
    "\n",
    "# Why are you plotting the 3rd bag for vicon, and the 1st bag for robot ee? Were they unsorted?\n",
    "\n",
    "#So nothing is lined up (we don't expect it to be) - and it doesn't look easy to see. We will need a 3D plot of the trajectories.\n",
    "\n",
    "plt.show()"
   ]
  },
  {
   "cell_type": "code",
   "execution_count": null,
   "metadata": {},
   "outputs": [],
   "source": []
  },
  {
   "cell_type": "markdown",
   "metadata": {},
   "source": [
    "# Plot vicon vs  transformed camera vs transformed ee_kin"
   ]
  },
  {
   "cell_type": "code",
   "execution_count": 11,
   "metadata": {},
   "outputs": [
    {
     "ename": "NameError",
     "evalue": "name 'tv' is not defined",
     "output_type": "error",
     "traceback": [
      "\u001b[0;31m---------------------------------------------------------------------------\u001b[0m",
      "\u001b[0;31mNameError\u001b[0m                                 Traceback (most recent call last)",
      "\u001b[0;32m<ipython-input-11-24fa3d055efa>\u001b[0m in \u001b[0;36m<module>\u001b[0;34m()\u001b[0m\n\u001b[1;32m      8\u001b[0m \u001b[0;34m\u001b[0m\u001b[0m\n\u001b[1;32m      9\u001b[0m \u001b[0;31m#Plot vicon data\u001b[0m\u001b[0;34m\u001b[0m\u001b[0;34m\u001b[0m\u001b[0m\n\u001b[0;32m---> 10\u001b[0;31m \u001b[0maxs\u001b[0m\u001b[0;34m[\u001b[0m\u001b[0;36m0\u001b[0m\u001b[0;34m]\u001b[0m\u001b[0;34m.\u001b[0m\u001b[0mplot\u001b[0m\u001b[0;34m(\u001b[0m\u001b[0;34m(\u001b[0m\u001b[0mtv\u001b[0m\u001b[0;34m[\u001b[0m\u001b[0;36m3\u001b[0m\u001b[0;34m]\u001b[0m\u001b[0;34m)\u001b[0m\u001b[0;34m,\u001b[0m\u001b[0mvicon_dylist\u001b[0m\u001b[0;34m[\u001b[0m\u001b[0;36m3\u001b[0m\u001b[0;34m]\u001b[0m\u001b[0;34m[\u001b[0m\u001b[0;34m:\u001b[0m\u001b[0;34m,\u001b[0m\u001b[0;36m0\u001b[0m\u001b[0;34m]\u001b[0m\u001b[0;34m,\u001b[0m\u001b[0mc\u001b[0m\u001b[0;34m=\u001b[0m\u001b[0;34m'r'\u001b[0m\u001b[0;34m)\u001b[0m\u001b[0;34m\u001b[0m\u001b[0m\n\u001b[0m\u001b[1;32m     11\u001b[0m \u001b[0maxs\u001b[0m\u001b[0;34m[\u001b[0m\u001b[0;36m1\u001b[0m\u001b[0;34m]\u001b[0m\u001b[0;34m.\u001b[0m\u001b[0mplot\u001b[0m\u001b[0;34m(\u001b[0m\u001b[0;34m(\u001b[0m\u001b[0mtv\u001b[0m\u001b[0;34m[\u001b[0m\u001b[0;36m3\u001b[0m\u001b[0;34m]\u001b[0m\u001b[0;34m)\u001b[0m\u001b[0;34m,\u001b[0m\u001b[0mvicon_dylist\u001b[0m\u001b[0;34m[\u001b[0m\u001b[0;36m3\u001b[0m\u001b[0;34m]\u001b[0m\u001b[0;34m[\u001b[0m\u001b[0;34m:\u001b[0m\u001b[0;34m,\u001b[0m\u001b[0;36m1\u001b[0m\u001b[0;34m]\u001b[0m\u001b[0;34m,\u001b[0m\u001b[0mc\u001b[0m\u001b[0;34m=\u001b[0m\u001b[0;34m'r'\u001b[0m\u001b[0;34m)\u001b[0m\u001b[0;34m\u001b[0m\u001b[0m\n\u001b[1;32m     12\u001b[0m \u001b[0maxs\u001b[0m\u001b[0;34m[\u001b[0m\u001b[0;36m2\u001b[0m\u001b[0;34m]\u001b[0m\u001b[0;34m.\u001b[0m\u001b[0mplot\u001b[0m\u001b[0;34m(\u001b[0m\u001b[0;34m(\u001b[0m\u001b[0mtv\u001b[0m\u001b[0;34m[\u001b[0m\u001b[0;36m3\u001b[0m\u001b[0;34m]\u001b[0m\u001b[0;34m)\u001b[0m\u001b[0;34m,\u001b[0m\u001b[0mvicon_dylist\u001b[0m\u001b[0;34m[\u001b[0m\u001b[0;36m3\u001b[0m\u001b[0;34m]\u001b[0m\u001b[0;34m[\u001b[0m\u001b[0;34m:\u001b[0m\u001b[0;34m,\u001b[0m\u001b[0;36m2\u001b[0m\u001b[0;34m]\u001b[0m\u001b[0;34m,\u001b[0m\u001b[0mc\u001b[0m\u001b[0;34m=\u001b[0m\u001b[0;34m'r'\u001b[0m\u001b[0;34m)\u001b[0m\u001b[0;34m\u001b[0m\u001b[0m\n",
      "\u001b[0;31mNameError\u001b[0m: name 'tv' is not defined"
     ]
    },
    {
     "data": {
      "image/png": "[encoded data removed]",
      "text/plain": [
       "<Figure size 1080x576 with 3 Axes>"
      ]
     },
     "metadata": {
      "needs_background": "light"
     },
     "output_type": "display_data"
    }
   ],
   "source": [
    "\n",
    "\n",
    "# fig, axs = plt.subplots(3,figsize =(15,8))\n",
    "# plt.xlabel('Time')\n",
    "# axs[0].grid()\n",
    "# axs[1].grid()\n",
    "# axs[2].grid()\n",
    "\n",
    "# #Plot vicon data\n",
    "# axs[0].plot((tv[3]),vicon_dylist[3][:,0],c='r')\n",
    "# axs[1].plot((tv[3]),vicon_dylist[3][:,1],c='r')\n",
    "# axs[2].plot((tv[3]),vicon_dylist[3][:,2],c='r')\n",
    "\n",
    "# #Plot camera data\n",
    "# axs[0].plot((tc[3]),camera_in_vicon[3][:,0],c='g')\n",
    "# axs[1].plot((tc[3]),camera_in_vicon[3][:,1],c='g')\n",
    "# axs[2].plot((tc[3]),camera_in_vicon[3][:,2],c='g')\n",
    "\n",
    "# #Plot kinematics data\n",
    "# axs[0].plot((tk[3]),BaseToEndEff_in_vicon[3][:,0],c='b')\n",
    "# axs[1].plot((tk[3]),BaseToEndEff_in_vicon[3][:,1],c='b')\n",
    "# axs[2].plot((tk[3]),BaseToEndEff_in_vicon[3][:,2],c='b')\n",
    "\n",
    "# plt.show()"
   ]
  },
  {
   "cell_type": "code",
   "execution_count": null,
   "metadata": {},
   "outputs": [],
   "source": []
  }
 ],
 "metadata": {
  "kernelspec": {
   "display_name": "Python 2",
   "language": "python",
   "name": "python2"
  },
  "language_info": {
   "codemirror_mode": {
    "name": "ipython",
    "version": 2
   },
   "file_extension": ".py",
   "mimetype": "text/x-python",
   "name": "python",
   "nbconvert_exporter": "python",
   "pygments_lexer": "ipython2",
   "version": "2.7.12"
  }
 },
 "nbformat": 4,
 "nbformat_minor": 4
}
