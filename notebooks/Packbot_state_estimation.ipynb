{
 "cells": [
  {
   "cell_type": "code",
   "execution_count": 1,
   "metadata": {},
   "outputs": [],
   "source": [
    "%matplotlib inline\n",
    "import matplotlib.pyplot as plt\n",
    "import numpy as np\n",
    "import mpl_toolkits\n",
    "from mpl_toolkits import mplot3d\n",
    "import rosbag\n",
    "import glob\n",
    "from urdf_parser_py.urdf import URDF\n",
    "from pykdl_utils.kdl_parser import kdl_tree_from_urdf_model\n",
    "from pykdl_utils.kdl_kinematics import KDLKinematics\n",
    "import time\n",
    "from IPython import display\n",
    "\n",
    "from numpy import linalg\n",
    "from mpl_toolkits.mplot3d import Axes3D\n",
    "\n",
    "from matplotlib import cm\n",
    "#%matplotlib qt\n",
    "import matplotlib.colors as colors\n",
    "import random"
   ]
  },
  {
   "cell_type": "code",
   "execution_count": 2,
   "metadata": {},
   "outputs": [],
   "source": [
    "data_path = './Robot_ViconNovember/'"
   ]
  },
  {
   "cell_type": "code",
   "execution_count": 3,
   "metadata": {},
   "outputs": [],
   "source": [
    "## Load Vicon data and store in np file\n",
    "vicobags_dyna = glob.glob(data_path+'VD/*.bag')\n",
    "for i,bag in enumerate(vicobags_dyna): # loop over vicon bags\n",
    "    vdbag = rosbag.Bag(bag)\n",
    "    vicon_dynaXpos = []\n",
    "    vicon_dynaYpos = []\n",
    "    vicon_dynaZpos = []\n",
    "    viconbag_time_dyna = []\n",
    "    for topicc, msgg, tt in vdbag.read_messages(topics=['/vicon/PEE/PEE']): # extract data\n",
    "        vicon_dynaXpos.append(msgg.transform.translation.x)\n",
    "        vicon_dynaYpos.append(msgg.transform.translation.y)\n",
    "        vicon_dynaZpos.append(msgg.transform.translation.z) \n",
    "        vicon_time_dy = tt.secs\n",
    "        viconbag_time_dyna.append(vicon_time_dy)\n",
    "    vdbag.close()\n",
    "\n",
    "    vicon_dynaXPosArr = np.array(vicon_dynaXpos)\n",
    "    vicon_dynaYPosArr = np.array(vicon_dynaYpos)\n",
    "    vicon_dynaZPosArr = np.array(vicon_dynaZpos)\n",
    "    vicon_dynaPosArr = np.column_stack((vicon_dynaXPosArr,vicon_dynaYPosArr,vicon_dynaZPosArr)) \n",
    "    np.save(data_path+'vicon_dynaPosArr%d.npy'%i, vicon_dynaPosArr) # save to numpy\n",
    "    np.save(data_path+'viconbag_time_dyna%d.npy'%i, viconbag_time_dyna)\n",
    "    \n",
    "# Load Robot  dynamic data and store in np file \n",
    "robobags_dyna = glob.glob(data_path+'RD/*.bag')\n",
    "for i,bag in enumerate(robobags_dyna): # loop over robot bags\n",
    "    rdbag = rosbag.Bag(bag)\n",
    "    robot_dynaXpos = []\n",
    "    robot_dynaYpos = []\n",
    "    robot_dynaZpos = []\n",
    "    robotbag_Tagtime_dyna = [] # \\this was spelt wrong\n",
    "    for topi, msgs, tym in rdbag.read_messages(topics=['/tag_detections']): # extract data\n",
    "        try:\n",
    "            robot_dynaXpos.append(msgs.detections[0].pose.pose.pose.position.x)\n",
    "            robot_dynaYpos.append(msgs.detections[0].pose.pose.pose.position.y)\n",
    "            robot_dynaZpos.append(msgs.detections[0].pose.pose.pose.position.z)   \n",
    "            robotbag_Tagtime_dyna.append(tym.secs)\n",
    "        except:\n",
    "            continue\n",
    "\n",
    "    robot_dynaXposArr = np.array(robot_dynaXpos)\n",
    "    robot_dynaYposArr = np.array(robot_dynaYpos)\n",
    "    robot_dynaZposArr = np.array(robot_dynaZpos)\n",
    "    robot_dynaposArr = np.column_stack((robot_dynaXposArr,robot_dynaYposArr,robot_dynaZposArr))\n",
    "    np.save(data_path+'robot_dynaPosArr%d.npy'%i, robot_dynaposArr)\n",
    "    np.save(data_path+'robotbag_Tagtime_dyna%d.npy'%i, robotbag_Tagtime_dyna)\n",
    "    \n",
    "    \n",
    "    robotbag_Jointstime_dyna = []\n",
    "    ja_list = []\n",
    "    for topic2, msg2, t2 in rdbag.read_messages(topics=['/Packbot510/joints']):\n",
    "        ja_list.append(msg2.position[:3])\n",
    "        robotbag_Jointstime_dyna.append(t2.secs)\n",
    "    ja_array_dyna = np.array(ja_list)\n",
    "\n",
    "    np.save(data_path+'ja_array_dyna%d.npy'%i, ja_array_dyna)\n",
    "    np.save(data_path+'robotbag_Jointstime_dyna%d.npy'%i, robotbag_Jointstime_dyna)\n",
    "    \n",
    "    \n",
    "    for topi, msgs, tym in rdbag.read_messages(topics=['/Zimmie/camera_info']): # extract data\n",
    "        camera_matrix = msgs.K\n",
    "rdbag.close()\n",
    "\n",
    "\n",
    "# Load Robot static data to get the mean and cov of the angles  \n",
    "robobags_stat = glob.glob(data_path+'RS/*.bag')\n",
    "for i,bag in enumerate(robobags_stat): # loop over robot bags\n",
    "    rsbag = rosbag.Bag(bag)\n",
    "    robotbag_Jointstime_stat = []\n",
    "    ja_list_stat = []\n",
    "    for topic2, msg2, t2 in rsbag.read_messages(topics=['/Packbot510/joints']):\n",
    "        ja_list_stat.append(msg2.position[:3])\n",
    "        robotbag_Jointstime_stat.append(t2.secs)\n",
    "    ja_array_stat = np.array(ja_list_stat)\n",
    "\n",
    "    np.save(data_path+'ja_array_stat%d.npy'%i, ja_array_stat)\n",
    "    np.save(data_path+'robotbag_Jointstime_stat%d.npy'%i, robotbag_Jointstime_stat)"
   ]
  },
  {
   "cell_type": "code",
   "execution_count": 17,
   "metadata": {},
   "outputs": [],
   "source": [
    "kinematics_list_dyna = []\n",
    "kinematics_list_stat = []\n",
    "for i in range(len(vicobags_dyna)):    \n",
    "    RobotKin_dy = np.load(data_path+'ja_array_dyna%d.npy'%i)\n",
    "    RobotKin_stat = np.load(data_path+'ja_array_stat%d.npy'%i)\n",
    "    kinematics_list_dyna.append(RobotKin_dy)\n",
    "    kinematics_list_stat.append(RobotKin_stat)\n",
    "jangles_subsetbag1 = kinematics_list_dyna[1]\n",
    "jangles_staticbag1 = kinematics_list_stat[1]\n",
    "\n",
    "# get the mean and cov of static data for estm uncertainty in angles and\n",
    "mu_theta = np.mean(jangles_staticbag1, axis = 0)\n",
    "covdata_transp = (jangles_staticbag1).T\n",
    "cov_thetazero= np.cov((covdata_transp).astype(float))\n",
    "cov_theta = 0.005*np.eye(3)\n",
    "n_dim = 3\n",
    "alpha = 0.01\n",
    "kappa = 0.1\n",
    "lamda = (((alpha)**2) * (n_dim + kappa) - n_dim)\n",
    "beta = 2.0\n",
    "resh1 = 3\n",
    "resh2 = 2\n"
   ]
  },
  {
   "cell_type": "code",
   "execution_count": 18,
   "metadata": {},
   "outputs": [],
   "source": [
    "#print(cov_theta) #Matrix is not positive definite, it has 0 values??"
   ]
  },
  {
   "cell_type": "code",
   "execution_count": 19,
   "metadata": {},
   "outputs": [
    {
     "data": {
      "text/plain": [
       "(1325, 3)"
      ]
     },
     "execution_count": 19,
     "metadata": {},
     "output_type": "execute_result"
    }
   ],
   "source": [
    "def foward_kinematics_plot(joint_angles):\n",
    "    robot = URDF.from_xml_file('robot.urdf')\n",
    "    links = [rl.name for rl in robot.links]\n",
    "\n",
    "    kdl_kin_turret_dy = KDLKinematics(robot,'base_link','turret_link')\n",
    "    kdl_kin_shoulder_dy = KDLKinematics(robot,'base_link','shoulder_link')\n",
    "    kdl_kin_elbo1_dy= KDLKinematics(robot,'base_link','elbow1_link')\n",
    "    kdl_kin_ee_dy = KDLKinematics(robot,'base_link','elbow2_link')\n",
    "\n",
    "\n",
    "    base_turretlist_dy = []\n",
    "    base_shoulderlist_dy = []\n",
    "    base_elbo1list_dy = []\n",
    "    ee_list_dy = []\n",
    "    for joints in joint_angles:\n",
    "        pose_turret_fkmatrix = kdl_kin_turret_dy.forward(joints[:1])\n",
    "        pose_shoulder_fkmatrix = kdl_kin_shoulder_dy.forward(joints[:2])\n",
    "        pose_elbo1list_fkmatrix = kdl_kin_elbo1_dy.forward(joints[:2])\n",
    "        pose_ee_fkmatrix = kdl_kin_ee_dy.forward(joints[:3])\n",
    "\n",
    "        base_turretlist_dy.append(pose_turret_fkmatrix[0:3,3])\n",
    "        base_shoulderlist_dy.append(pose_shoulder_fkmatrix[0:3,3])\n",
    "        base_elbo1list_dy.append(pose_elbo1list_fkmatrix[0:3,3])\n",
    "        ee_list_dy.append(pose_ee_fkmatrix[0:3,3])\n",
    "    \n",
    "    BaseTo_turret_xyz_dyna = (np.squeeze(np.array(base_turretlist_dy)))    \n",
    "    BaseTo_shoulder_xyz_dyna = (np.squeeze(np.array(base_shoulderlist_dy)))    \n",
    "    BaseTo_elbo1_xyz_dyna = (np.squeeze(np.array(base_elbo1list_dy)))    \n",
    "    BaseTo_ee_xyz_dyna = (np.squeeze(np.array(ee_list_dy)))\n",
    "    \n",
    "    return BaseTo_turret_xyz_dyna,BaseTo_shoulder_xyz_dyna,BaseTo_elbo1_xyz_dyna,BaseTo_ee_xyz_dyna\n",
    "measurements = foward_kinematics_plot(jangles_subsetbag1)\n",
    "np.array(measurements[0]).shape"
   ]
  },
  {
   "cell_type": "code",
   "execution_count": 20,
   "metadata": {},
   "outputs": [],
   "source": [
    "def robot3D(measurements):\n",
    "    for i in range(len(jangles_subsetbag1)):\n",
    "        ax = plt.axes(projection = '3d')\n",
    "        ax.scatter3D((measurements[0][i,0]), (measurements[0][i,1]), (measurements[0][i,2]),\n",
    "                         c='blue',s=200, label ='joints',alpha=0.5)\n",
    "        ax.scatter3D((measurements[1][i,0]), (measurements[1][i,1]), (measurements[1][i,2]),\n",
    "                         c='blue',s=200, label ='joints',alpha=0.5)\n",
    "        ax.scatter3D((measurements[2][i,0]), (measurements[2][i,1]), (measurements[2][i,2]),\n",
    "                         c='blue',s=200, label ='joints',alpha=0.5)\n",
    "        ax.scatter3D((measurements[3][i,0]), (measurements[3][i,1]), (measurements[3][i,2]),\n",
    "                         c='red',s=200, label ='joints',alpha=0.5)\n",
    "\n",
    "        ax.plot3D([measurements[0][i,0],measurements[1][i,0]], \n",
    "                      [measurements[0][i,1],measurements[1][i,1]], \n",
    "                      [measurements[0][i,2],measurements[1][i,2]], \n",
    "                      'green',linewidth=9.0, label='links')\n",
    "\n",
    "        ax.plot3D([measurements[1][i,0],measurements[2][i,0]], \n",
    "                      [measurements[1][i,1],measurements[2][i,1]], \n",
    "                      [measurements[1][i,2],measurements[2][i,2]], \n",
    "                      'green',linewidth=9.0, label='links')\n",
    "\n",
    "        ax.plot3D([measurements[2][i,0],measurements[3][i,0]], \n",
    "                      [measurements[2][i,1],measurements[3][i,1]], \n",
    "                      [measurements[2][i,2],measurements[3][i,2]], \n",
    "                      'green',linewidth=9.0, label='links')\n",
    "\n",
    "        ax.set_xlim(-0.5, 1)\n",
    "        ax.set_ylim(-0.5, 1)\n",
    "        ax.set_zlim(-0.5, 1)\n",
    "        ax.set_xlabel('X axis', fontsize=16, fontweight='bold', color='red')\n",
    "        ax.set_ylabel('Y axis',  fontsize=16, fontweight='bold', color='green')\n",
    "        ax.set_zlabel('Z axis',  fontsize=16, fontweight='bold', color='blue')\n",
    "        ax.set_title('3D Manipulator of two links',fontsize = 16, fontweight = 'bold')\n",
    "        \n",
    "#     fig = plt.show()\n",
    "# plot3D = robot3D(foward_kinematics_plot(jangles_subsetbag1))"
   ]
  },
  {
   "cell_type": "code",
   "execution_count": 21,
   "metadata": {},
   "outputs": [
    {
     "data": {
      "text/plain": [
       "1325"
      ]
     },
     "execution_count": 21,
     "metadata": {},
     "output_type": "execute_result"
    }
   ],
   "source": [
    "def kinematics_endeff(joint_angles):\n",
    "    robot = URDF.from_xml_file('robot.urdf')\n",
    "    links = [rl.name for rl in robot.links]\n",
    "    kdl_kin_ee_dy = KDLKinematics(robot,'base_link','elbow2_link')\n",
    "    ee_list_dy = []\n",
    "    for joints in joint_angles:\n",
    "        ee_list_dy.append(kdl_kin_ee_dy.forward(joints)) \n",
    "    return ee_list_dy\n",
    "endEffe = kinematics_endeff(jangles_subsetbag1)\n",
    "len(endEffe)"
   ]
  },
  {
   "cell_type": "code",
   "execution_count": 22,
   "metadata": {},
   "outputs": [],
   "source": [
    "def sigma_points(mu,cov,al,n,k,lam):\n",
    "#computes the cholesky decomposition of matrix square root A, \n",
    "#which assumes it to be a symmetric and positive definite matrix\n",
    "    chol_A = np.linalg.cholesky((n_dim+lam)*cov)\n",
    "    sigma_pointx = np.zeros((7,len(mu)))\n",
    "    sigma_pointx[0,:] = mu\n",
    "    for i in range(3):\n",
    "        sigma_pointx[i+1,:] =  mu + chol_A[:,i]\n",
    "    for i in range(3):\n",
    "        sigma_pointx[i+4,:] =  mu - chol_A[:,i]\n",
    "    return sigma_pointx\n"
   ]
  },
  {
   "cell_type": "code",
   "execution_count": 23,
   "metadata": {},
   "outputs": [],
   "source": [
    "def weight_sigma(al,n,k,b,lam):\n",
    "    c = n_dim + lamda\n",
    "    w_mu = np.zeros((2 * n_dim + 1,1))\n",
    "    w_mu[0,0] = lamda / c\n",
    "    \n",
    "    w_cov = np.zeros((2 * n_dim + 1,1))\n",
    "    w_cov[0,0] = w_mu[0,0] + (1 - alpha**2 + beta)\n",
    "    for i in range(6):\n",
    "        w_mu[i+1,0] = 0.5/c\n",
    "        w_cov[i+1,0] = 0.5/c\n",
    "    return w_mu,w_cov\n"
   ]
  },
  {
   "cell_type": "code",
   "execution_count": 24,
   "metadata": {},
   "outputs": [],
   "source": [
    "#generating the new mean and covariance of the approximate Gaussian\n",
    "def estimate_distri(transformedpoints,weight_mean,weight_cov,n,resh):\n",
    "    mu_Keeprime = np.zeros((resh,1))\n",
    "    cov_Keeprime = np.zeros((resh,resh))\n",
    "    for i in range(2*(n) + 1):\n",
    "        mu_Keeprime = mu_Keeprime + weight_mean[i]*transformedpoints[i,:].reshape(resh,1)\n",
    "    for i in range(2*(n) + 1):\n",
    "        cov_Keeprime = cov_Keeprime + weight_cov[i]*(transformedpoints[i,:].reshape(resh,1) \n",
    "                    - mu_Keeprime).dot((transformedpoints[i,:].reshape(resh,1) - mu_Keeprime).T)\n",
    "    return mu_Keeprime, cov_Keeprime"
   ]
  },
  {
   "cell_type": "code",
   "execution_count": 25,
   "metadata": {},
   "outputs": [
    {
     "data": {
      "text/plain": [
       "(array([ 0.39658277, -0.15127085,  0.3709972 ]),\n",
       " array([[ 4.74977580e-04,  1.05522319e-05,  4.84687035e-04],\n",
       "        [ 1.05522319e-05,  1.32729320e-04, -1.32701843e-04],\n",
       "        [ 4.84687035e-04, -1.32701843e-04,  2.04562596e-03]]),\n",
       " array([[ 0.39885871, -0.1521755 ,  0.37088941],\n",
       "        [ 0.39904805, -0.15199503,  0.37088941],\n",
       "        [ 0.39906377, -0.15223167,  0.37066529],\n",
       "        [ 0.39860128, -0.15210499,  0.3701254 ],\n",
       "        [ 0.39866914, -0.15235573,  0.37088941],\n",
       "        [ 0.39865338, -0.15211926,  0.37111327],\n",
       "        [ 0.39911522, -0.15224576,  0.37165376]]))"
      ]
     },
     "execution_count": 25,
     "metadata": {},
     "output_type": "execute_result"
    }
   ],
   "source": [
    "#Transform joint angle sigma points to end-effector space\n",
    "def unscented_transform():\n",
    "    #Generate sigma joint angle points\n",
    "    sigma_angles = sigma_points(mu_theta,cov_theta,alpha,n_dim,kappa,lamda)\n",
    "    #Calculate sigma joint angle weights\n",
    "    wsm, wsc = weight_sigma(alpha,n_dim,kappa,beta,lamda) \n",
    "    #propagating the points thru fk\n",
    "    fbase_eeMatrices = kinematics_endeff(sigma_angles)\n",
    "    fbase_poses = []\n",
    "    for fbase in fbase_eeMatrices:\n",
    "        fbase_poses.append(fbase[0:3,3])\n",
    "        fbase_posesArr = np.array(fbase_poses)\n",
    "    fbase_posesArrshaped = ((np.reshape(fbase_posesArr, (7, 3))))\n",
    "    #Estimating the new Gaussian distribution of the end-effector space\n",
    "    mu_xee, covmat_xee = estimate_distri(fbase_posesArrshaped,wsm, wsc,n_dim,3)\n",
    "    mu_xee = mu_xee.reshape(3,)\n",
    "    return mu_xee,covmat_xee,fbase_posesArrshaped\n",
    "mu_xee,covmat_xee,fbase_posesArrshaped = unscented_transform()\n",
    "unscented_transform()"
   ]
  },
  {
   "cell_type": "code",
   "execution_count": 26,
   "metadata": {},
   "outputs": [],
   "source": [
    "# add R_t to the sigma point covariance(covmat_xee) to model additional prediction noise uncertainty"
   ]
  },
  {
   "cell_type": "code",
   "execution_count": 27,
   "metadata": {},
   "outputs": [],
   "source": [
    "#plot 3drobot and ee ellipse"
   ]
  },
  {
   "cell_type": "code",
   "execution_count": 28,
   "metadata": {},
   "outputs": [],
   "source": [
    "def plot_ellipsoid(mu,cov):\n",
    "    ellipNumber = 3\n",
    "    #set colour map so each ellipsoid as a unique colour\n",
    "    norm = colors.Normalize(vmin=0, vmax=ellipNumber)\n",
    "    cmap = cm.jet\n",
    "    m = cm.ScalarMappable(norm=norm, cmap=cmap)\n",
    "    #compute each and plot each ellipsoid iteratively\n",
    "    for indx in range(ellipNumber):\n",
    "        # your ellispsoid and center in matrix form\n",
    "        A = cov\n",
    "        center = mu\n",
    "        # find the rotation matrix and radii of the axes\n",
    "        radii, rotation = np.linalg.eig(A)\n",
    "        #print(radii.shape)\n",
    "        radii = np.sqrt(radii)#reduce radii by factor 0.3 \n",
    "        # calculate cartesian coordinates for the ellipsoid surface\n",
    "        u = np.linspace(0.0, 2.0 * np.pi, 60)\n",
    "        v = np.linspace(0.0, np.pi, 60)\n",
    "        x = radii[0] * np.outer(np.cos(u), np.sin(v))\n",
    "        y = radii[1] * np.outer(np.sin(u), np.sin(v))\n",
    "        z = radii[2] * np.outer(np.ones_like(u), np.cos(v))\n",
    "\n",
    "        for i in range(len(x)):\n",
    "            for j in range(len(x)):\n",
    "                [x[i,j],y[i,j],z[i,j]] = np.dot([x[i,j],y[i,j],z[i,j]], rotation) + center\n",
    "\n",
    "        ax.plot_surface(x, y, z,  rstride=3, cstride=3,  color=m.to_rgba(indx), linewidth=0.1, alpha=1.0, shade=True)\n",
    "        ax.set_xlabel('X ', fontsize=20, fontweight='bold', color='red')\n",
    "        ax.set_ylabel('Y',  fontsize=20, fontweight='bold', color='green')\n",
    "        ax.set_zlabel('Z',  fontsize=20, fontweight='bold', color='blue')\n",
    "#         ax.set_title('3D Manipulator of two links',fontsize = 20, fontweight = 'bold')\n",
    "        plt.rcParams[\"font.size\"] = 20\n",
    "        plt.rcParams[\"font.weight\"] = \"bold\"\n",
    "        plt.rcParams[\"axes.labelweight\"] = \"bold\""
   ]
  },
  {
   "cell_type": "code",
   "execution_count": 29,
   "metadata": {},
   "outputs": [],
   "source": [
    "# fig = plt.figure(figsize=(15,10))\n",
    "# ax = fig.add_subplot(111, projection='3d')\n",
    "# plot_ellipsoid(mu_xee,covmat_xee)\n",
    "# robot3D(foward_kinematics_plot(jangles_subsetbag1))\n",
    "# #print(mu_xee.shape)\n",
    "# #print(covmat_xee.shape)\n",
    "# fig = plt.show()"
   ]
  },
  {
   "cell_type": "markdown",
   "metadata": {},
   "source": [
    "# Adding measurement data(Z) using camera model"
   ]
  },
  {
   "cell_type": "code",
   "execution_count": 30,
   "metadata": {},
   "outputs": [],
   "source": [
    "#\"\"\"Concern: Z is our measurement space, i.e the measurement that is coming from the sensor. \n",
    "#yet we havent used this ? which is supposed to be measurement coming from the sensor\"\"\"\n",
    "\n",
    "##we simulated sampled 2d point which I assumed was the point from the sensor \n",
    "#then thats where we using sensor data right? \n",
    "#but how do we choose the correct, one point from this"
   ]
  },
  {
   "cell_type": "code",
   "execution_count": 33,
   "metadata": {
    "scrolled": true
   },
   "outputs": [],
   "source": [
    "#sensor data\n",
    "camera_dylist = []\n",
    "for i in range(len(vicobags_dyna)):\n",
    "    robot_dy = np.load(data_path+'robot_dynaPosArr%d.npy'%i)\n",
    "    camera_dylist.append(robot_dy)\n",
    "cam_dataXYZ = camera_dylist[1]\n",
    "# arr_ones = np.ones(((len(cam_dataXYZ)),1))\n",
    "# # cam_dataXYZhomo = np.concatenate((cam_dataXYZ,arr_ones), axis = 1)"
   ]
  },
  {
   "cell_type": "code",
   "execution_count": 34,
   "metadata": {},
   "outputs": [],
   "source": [
    "#transformation matrix of the cmera, H?"
   ]
  },
  {
   "cell_type": "code",
   "execution_count": 35,
   "metadata": {},
   "outputs": [],
   "source": [
    "#Camera model that projects from 3d point to image plane\n",
    "def rtmapping(X_world):\n",
    "    K = np.matrix([[136.848632, 0.0, 128.029255, 0],[0.0, 138.204089, 86.254287, 0],[ 0.0, 0.0, 1.0, 0.0]]) \n",
    "    H = np.matrix([[1,0,0,0],[0,1,0,0],[0,0,1,0],[0,0,0,1]]) \n",
    "    P = K * H \n",
    "    x_im = P.dot(np.concatenate((X_world, np.array([1])), axis=0))\n",
    "    return x_im\n",
    "#rtmapping(cam_dataXYZhomo)"
   ]
  },
  {
   "cell_type": "code",
   "execution_count": 36,
   "metadata": {},
   "outputs": [
    {
     "name": "stdout",
     "output_type": "stream",
     "text": [
      "(7, 3)\n"
     ]
    },
    {
     "data": {
      "text/plain": [
       "array([[101.7703045 ,  11.0938494 ,   0.3709972 ],\n",
       "       [101.8729484 ,  11.12880188,   0.37138877],\n",
       "       [101.74220808,  11.10292987,   0.37077775],\n",
       "       [101.85451816,  11.15058479,   0.37165497],\n",
       "       [101.6676606 ,  11.05889693,   0.37060563],\n",
       "       [101.79840092,  11.08476894,   0.37121665],\n",
       "       [101.68609084,  11.03711401,   0.37033943]])"
      ]
     },
     "execution_count": 36,
     "metadata": {},
     "output_type": "execute_result"
    }
   ],
   "source": [
    "def cameramodel_UT():\n",
    "    mu_xee, covmat_xee,fbase_posesArrshaped = unscented_transform()\n",
    "    sigma_xee = sigma_points(mu_xee,covmat_xee,alpha, n_dim, kappa,lamda)\n",
    "    #Assign weights to the sigma points\n",
    "    wsm, wsc = weight_sigma(alpha,n_dim,kappa,beta,lamda) \n",
    "    \n",
    "    image_eeHomog = np.ones((sigma_xee.shape[0],3))\n",
    "    #Propagating sigma points through camera model\n",
    "    for i in range(sigma_xee.shape[0]):\n",
    "        #a = ((sigma_xee[i,:]))#, np.array([1])), axis=0)\n",
    "        image_eeHomog[i,:] = rtmapping(sigma_xee[i,:])\n",
    "    print(sigma_xee.shape)\n",
    "    return image_eeHomog      \n",
    "image_eeHomog = cameramodel_UT()\n",
    "image_eeHomog"
   ]
  },
  {
   "cell_type": "code",
   "execution_count": 37,
   "metadata": {},
   "outputs": [
    {
     "data": {
      "text/plain": [
       "array([[274.3155604 ,  29.90278481],\n",
       "       [274.30271962,  29.96537029],\n",
       "       [274.40214322,  29.94497377],\n",
       "       [274.05665741,  30.00251782],\n",
       "       [274.32842832,  29.84006709],\n",
       "       [274.22907995,  29.86064574],\n",
       "       [274.57538308,  29.80269753]])"
      ]
     },
     "execution_count": 37,
     "metadata": {},
     "output_type": "execute_result"
    }
   ],
   "source": [
    "def endEffecImage2d(ee_ImaHomo):\n",
    "    for i in range(len(ee_ImaHomo )):\n",
    "        x= ee_ImaHomo[:,0]/ee_ImaHomo[:,2]\n",
    "        y= ee_ImaHomo[:,1]/ee_ImaHomo[:,2]\n",
    "        xx,yy = x.reshape(len(ee_ImaHomo),1),y.reshape(len(ee_ImaHomo),1)\n",
    "    return np.hstack((xx,yy))\n",
    "end_effe2D = endEffecImage2d(image_eeHomog)\n",
    "end_effe2D"
   ]
  },
  {
   "cell_type": "code",
   "execution_count": 38,
   "metadata": {},
   "outputs": [],
   "source": [
    "#\"\"\"\"defining the measurement noise Q, adding it to the estimated covariance\"\"\"? how do we get it"
   ]
  },
  {
   "cell_type": "code",
   "execution_count": 40,
   "metadata": {},
   "outputs": [
    {
     "data": {
      "text/plain": [
       "matrix([[163.03556549],\n",
       "        [101.94491387]])"
      ]
     },
     "execution_count": 40,
     "metadata": {},
     "output_type": "execute_result"
    }
   ],
   "source": [
    "sensordata_z = rtmapping(cam_dataXYZ[0])\n",
    "sensordata_in2d = endEffecImage2d(sensordata_z)\n",
    "sensordata_in2d.reshape(2,1)"
   ]
  },
  {
   "cell_type": "code",
   "execution_count": 44,
   "metadata": {},
   "outputs": [],
   "source": [
    "#predicted mean and cov(uncertain end eff pose) in the image plane\n",
    "wsm, wsc = weight_sigma(alpha,n_dim,kappa,beta,lamda) \n",
    "predictedObservat_mu,predictedUncer_cov = estimate_distri(endEffecImage2d(image_eeHomog),wsm, wsc,n_dim,2)\n",
    "measuemnt_noiseQ = np.eye(2,dtype=float)\n",
    "uncertaintycov = predictedUncer_cov + measuemnt_noiseQ"
   ]
  },
  {
   "cell_type": "code",
   "execution_count": 45,
   "metadata": {},
   "outputs": [],
   "source": [
    "mu_xee, covmat_xee,fbase_posesArrshaped = unscented_transform() \n",
    "sigma_xee = sigma_points(mu_xee,covmat_xee,alpha, n_dim, kappa,lamda)\n",
    "\n",
    "#cross covariance between X and Z\n",
    "cross_cov = np.zeros((3,2))\n",
    "for i in range(2*(3) + 1):\n",
    "        cross_cov = cross_cov + wsc[i] *(sigma_xee[i,:].reshape(3,1)\n",
    "                                     - mu_xee.reshape(3,1)) *(end_effe2D[i,:].reshape(2,1) \n",
    "                                                              - predictedObservat_mu).T\n",
    "        \n",
    "        \n",
    "#Compute Kalman gain and the final prediction mean and covariance\n",
    "kalman_gain = cross_cov.dot(np.linalg.inv(uncertaintycov))\n",
    "\n",
    "# actual_mu_meas is T to align (2,1) dim, mu_xee is reshaped from 3, to 3,1\n",
    "final_predic_mu = mu_xee.reshape(3,1) + kalman_gain.dot(sensordata_in2d.reshape(2,1) - predictedObservat_mu)\n",
    "#print(reshaped_point.T.shape)\n",
    "#fixing final mean to 3, matrix \n",
    "mu_final = np.squeeze(np.asarray(final_predic_mu))\n",
    "final_predic_cov = covmat_xee - kalman_gain.dot(uncertaintycov).dot(kalman_gain.T)"
   ]
  },
  {
   "cell_type": "code",
   "execution_count": 47,
   "metadata": {},
   "outputs": [
    {
     "name": "stdout",
     "output_type": "stream",
     "text": [
      "[ 0.49904968 -0.11564739  0.74459242]\n",
      "[[ 2.91063581e-04 -1.03364814e-04  2.75318114e-04]\n",
      " [-1.03364814e-04  4.44965151e-05 -9.93116615e-05]\n",
      " [ 2.75318114e-04 -9.93116615e-05  3.02472071e-04]]\n"
     ]
    }
   ],
   "source": [
    "print(mu_final)\n",
    "print(final_predic_cov)"
   ]
  },
  {
   "cell_type": "code",
   "execution_count": 48,
   "metadata": {},
   "outputs": [],
   "source": [
    "#for vicon data as our ground truth do we use interpolated data or original?\n",
    "# and which point do we choose"
   ]
  },
  {
   "cell_type": "code",
   "execution_count": 49,
   "metadata": {},
   "outputs": [],
   "source": [
    "vicon_dylist = []\n",
    "for i in range(len(vicobags_dyna)):     \n",
    "    vicon_dy = np.load(data_path+'vicon_dynaPosArr%d.npy'%i)\n",
    "    vicon_dylist.append(vicon_dy)    \n",
    "vicon_endeff_subsetbag1 = vicon_dylist[1]\n",
    "\n",
    "#projecting it to the image plane\n",
    "ee_poseVicon = rtmapping(vicon_endeff_subsetbag1[0])\n",
    "#reuse the func for converting to 2D image plane\n",
    "actual_mu_meas = endEffecImage2d(ee_poseVicon)\n",
    "actual_point = actual_mu_meas.reshape(2,1)\n",
    "nDmeanTo_1d = np.squeeze(np.asarray(actual_point))\n",
    "#print(actual_point.shape)\n",
    "#print(nDmeanTo_1d.shape)"
   ]
  },
  {
   "cell_type": "code",
   "execution_count": null,
   "metadata": {},
   "outputs": [],
   "source": [
    "# fig = plt.figure(figsize=(10,10))\n",
    "# ax = fig.add_subplot(111, projection='3d')\n",
    "# plot_ellipsoid(mu_final,final_predic_cov)\n",
    "# my3Dplot(std_dhmBaseToEE(DH_table))\n",
    "# plt.show()"
   ]
  }
 ],
 "metadata": {
  "kernelspec": {
   "display_name": "Python 2",
   "language": "python",
   "name": "python2"
  },
  "language_info": {
   "codemirror_mode": {
    "name": "ipython",
    "version": 2
   },
   "file_extension": ".py",
   "mimetype": "text/x-python",
   "name": "python",
   "nbconvert_exporter": "python",
   "pygments_lexer": "ipython2",
   "version": "2.7.17"
  }
 },
 "nbformat": 4,
 "nbformat_minor": 2
}
