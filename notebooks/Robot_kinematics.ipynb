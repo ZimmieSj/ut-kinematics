{
 "cells": [
  {
   "cell_type": "code",
   "execution_count": 1,
   "metadata": {},
   "outputs": [],
   "source": [
    "from urdf_parser_py.urdf import URDF\n",
    "from pykdl_utils.kdl_parser import kdl_tree_from_urdf_model\n",
    "from pykdl_utils.kdl_kinematics import KDLKinematics"
   ]
  },
  {
   "cell_type": "code",
   "execution_count": 3,
   "metadata": {},
   "outputs": [],
   "source": [
    "robot = URDF.from_xml_file('robot.urdf')"
   ]
  },
  {
   "cell_type": "code",
   "execution_count": 30,
   "metadata": {},
   "outputs": [
    {
     "data": {
      "text/plain": [
       "['base_link',\n",
       " 'robot_base_link',\n",
       " 'track_left_link',\n",
       " 'track_right_link',\n",
       " 'flipper_left_link',\n",
       " 'flipper_right_link',\n",
       " 'turret_support_link',\n",
       " 'forward_cover_link',\n",
       " 'turret_link',\n",
       " 'arm_link',\n",
       " 'turret_camera_link',\n",
       " 'bottom_arm_link',\n",
       " 'middle_arm_link',\n",
       " 'top_arm_link',\n",
       " 'top_arm_top1_link',\n",
       " 'top_arm_top2_link',\n",
       " 'top_arm_top_cylinder_link',\n",
       " 'shoulder_link',\n",
       " 'elbow1_link',\n",
       " 'elbow2_link',\n",
       " 'grip_block_link',\n",
       " 'grip_block_cam_top_link',\n",
       " 'grip_block_cam_bottom_link',\n",
       " 'left_gripper',\n",
       " 'left_gripper_link2',\n",
       " 'left_gripper_link3',\n",
       " 'left_gripper_link4',\n",
       " 'left_gripper_link5',\n",
       " 'left_gripper_link6',\n",
       " 'right_gripper',\n",
       " 'right_gripper_link2',\n",
       " 'right_gripper_link3',\n",
       " 'right_gripper_link4',\n",
       " 'right_gripper_link5',\n",
       " 'right_gripper_link6',\n",
       " 'gripper_rotate_link',\n",
       " 'null_gripper',\n",
       " 'cam_link',\n",
       " 'camera',\n",
       " 'camera_face',\n",
       " 'camera_flap',\n",
       " 'speaker_link',\n",
       " 'handle_link1',\n",
       " 'handle_link2',\n",
       " 'handle_link3',\n",
       " 'antenna_left',\n",
       " 'antenna_right']"
      ]
     },
     "execution_count": 30,
     "metadata": {},
     "output_type": "execute_result"
    }
   ],
   "source": [
    "# Get links on robot\n",
    "[rl.name for rl in robot.links]"
   ]
  },
  {
   "cell_type": "code",
   "execution_count": 31,
   "metadata": {},
   "outputs": [
    {
     "name": "stdout",
     "output_type": "stream",
     "text": [
      "['turret', 'shoulder', 'elbow1']\n"
     ]
    }
   ],
   "source": [
    "# Set up chain from base to elbow and print the joints in between\n",
    "kdl_kin = KDLKinematics(robot,'base_link','elbow2_link')\n",
    "print(kdl_kin.get_joint_names())"
   ]
  },
  {
   "cell_type": "code",
   "execution_count": 32,
   "metadata": {},
   "outputs": [
    {
     "name": "stdout",
     "output_type": "stream",
     "text": [
      "[[ -2.32051033e-08   0.00000000e+00   1.00000000e+00   8.34000000e-01]\n",
      " [  0.00000000e+00   1.00000000e+00   0.00000000e+00  -8.00000000e-02]\n",
      " [ -1.00000000e+00   0.00000000e+00  -2.32051033e-08   1.99999987e-01]\n",
      " [  0.00000000e+00   0.00000000e+00   0.00000000e+00   1.00000000e+00]]\n"
     ]
    }
   ],
   "source": [
    "# Use KDL for forward kinematics\n",
    "joint_angles = [0.1,0.2,0.3]\n",
    "T = kdl_kin.forward(joint_angles)\n",
    "print (pose)"
   ]
  }
 ],
 "metadata": {
  "kernelspec": {
   "display_name": "Python 2",
   "language": "python",
   "name": "python2"
  },
  "language_info": {
   "codemirror_mode": {
    "name": "ipython",
    "version": 2
   },
   "file_extension": ".py",
   "mimetype": "text/x-python",
   "name": "python",
   "nbconvert_exporter": "python",
   "pygments_lexer": "ipython2",
   "version": "2.7.12"
  }
 },
 "nbformat": 4,
 "nbformat_minor": 2
}
